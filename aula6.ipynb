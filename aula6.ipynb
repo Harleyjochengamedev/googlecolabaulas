{
  "cells": [
    {
      "cell_type": "markdown",
      "metadata": {
        "id": "uMGvPP_RWiZm"
      },
      "source": [
        "## Como localizar e interagir com elementos web com Selenium"
      ]
    },
    {
      "cell_type": "markdown",
      "metadata": {
        "id": "ph4vKMWwWiag"
      },
      "source": [
        "#### Uma parte fundamental do Selenium é a capacidade de localizar elementos em uma página da web para interagir com eles."
      ]
    },
    {
      "cell_type": "markdown",
      "metadata": {
        "id": "w1nNT_kGWiao"
      },
      "source": [
        "### **Como localizar?**\n",
        "\n",
        "- #### Localização por ID\n",
        "- #### Localização por Nome\n",
        "- #### Localização por Classe\n",
        "- #### Localização por XPath\n",
        "- #### Localização por Seletor CSS\n"
      ]
    },
    {
      "cell_type": "markdown",
      "metadata": {
        "id": "aKchrbgpWiat"
      },
      "source": [
        "### Métodos:\n",
        "- #### Antigo:\n",
        "`driver.find_element_by_*`\n",
        "\n",
        "- #### Atual:\n",
        "`driver.find_element`"
      ]
    },
    {
      "cell_type": "markdown",
      "metadata": {
        "id": "MbEp6kP_Wia5"
      },
      "source": [
        "### Exemplo\n",
        "\n",
        "Encontrar os telefones disponiveis nesse site:\n",
        "https://webscraper.io/test-sites/e-commerce/allinone/phones\n"
      ]
    },
    {
      "cell_type": "code",
      "execution_count": null,
      "metadata": {
        "id": "hb8emIlUWibG",
        "outputId": "577522f0-52d5-41ea-fb3c-e5eecde2e6f7"
      },
      "outputs": [
        {
          "data": {
            "text/plain": [
              "<selenium.webdriver.remote.webelement.WebElement (session=\"06b89200c6a2eb34c312c73ef7fbf37b\", element=\"f.710BA70BFD5AFD9B837F07BA7AA95129.d.A839FAD0F448B4B2100D23749F21ED45.e.71\")>"
            ]
          },
          "execution_count": 2,
          "metadata": {},
          "output_type": "execute_result"
        }
      ],
      "source": [
        "from selenium import webdriver\n",
        "from selenium.webdriver.common.by import By\n",
        "\n",
        "driver = webdriver.Chrome()\n",
        "\n",
        "driver.get(\"https://webscraper.io/test-sites/e-commerce/allinone/phones\")\n",
        "\n",
        "driver.find_element(By.CLASS_NAME, \"title\")\n"
      ]
    },
    {
      "cell_type": "code",
      "execution_count": null,
      "metadata": {
        "id": "1E1iUSagWibb",
        "outputId": "a5400480-8d6a-41d5-90e4-86d3305c6dfc"
      },
      "outputs": [
        {
          "name": "stdout",
          "output_type": "stream",
          "text": [
            "Sony Xperia\n",
            "Iphone\n",
            "Iphone\n"
          ]
        }
      ],
      "source": [
        "lista_telefones = driver.find_elements(By.CLASS_NAME, \"title\")\n",
        "\n",
        "for item in lista_telefones:\n",
        "    print(item.text)"
      ]
    },
    {
      "cell_type": "markdown",
      "metadata": {
        "id": "hWDXoX_pWibg"
      },
      "source": [
        "### **Como interagir?**\n",
        "\n",
        "- #### send_keys\n",
        "- #### click\n",
        "- #### select\n",
        "- #### submit"
      ]
    },
    {
      "cell_type": "markdown",
      "metadata": {
        "id": "pKeGLPt3Wibp"
      },
      "source": [
        "### Exemplo\n",
        "\n",
        "Encontrar os computadores disponiveis nesse site:\n",
        "https://webscraper.io/test-sites/e-commerce/allinone/phones\n"
      ]
    },
    {
      "cell_type": "code",
      "execution_count": null,
      "metadata": {
        "id": "Y4LEfsOqWibu"
      },
      "outputs": [],
      "source": [
        "from selenium import webdriver\n",
        "\n",
        "\n",
        "driver = webdriver.Chrome()\n",
        "\n",
        "driver.get(\"https://webscraper.io/test-sites/e-commerce/allinone/phones\")\n",
        "\n",
        "computadores = driver.find_element(By.XPATH,'//*[@id=\"side-menu\"]/li[2]/a')\n",
        "\n",
        "computadores.click()\n",
        "\n"
      ]
    },
    {
      "cell_type": "code",
      "execution_count": null,
      "metadata": {
        "id": "zJc3WJR0Wib4"
      },
      "outputs": [],
      "source": []
    }
  ],
  "metadata": {
    "kernelspec": {
      "display_name": "Python 3.10.9 64-bit",
      "language": "python",
      "name": "python3"
    },
    "language_info": {
      "codemirror_mode": {
        "name": "ipython",
        "version": 3
      },
      "file_extension": ".py",
      "mimetype": "text/x-python",
      "name": "python",
      "nbconvert_exporter": "python",
      "pygments_lexer": "ipython3",
      "version": "3.10.9"
    },
    "orig_nbformat": 4,
    "vscode": {
      "interpreter": {
        "hash": "b0fa6594d8f4cbf19f97940f81e996739fb7646882a419484c72d19e05852a7e"
      }
    },
    "colab": {
      "provenance": []
    }
  },
  "nbformat": 4,
  "nbformat_minor": 0
}